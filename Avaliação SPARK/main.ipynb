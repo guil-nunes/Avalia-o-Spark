{
 "cells": [
  {
   "cell_type": "code",
   "execution_count": 43,
   "id": "3b799844",
   "metadata": {},
   "outputs": [
    {
     "name": "stdout",
     "output_type": "stream",
     "text": [
      "Dataset URL: https://www.kaggle.com/datasets/sahilislam007/college-student-placement-factors-dataset\n",
      "License(s): MIT\n",
      "college-student-placement-factors-dataset.zip: Skipping, found more recently modified local copy (use --force to force download)\n"
     ]
    }
   ],
   "source": [
    "!kaggle datasets download -d sahilislam007/college-student-placement-factors-dataset\n"
   ]
  },
  {
   "cell_type": "code",
   "execution_count": 44,
   "id": "783fac78",
   "metadata": {},
   "outputs": [
    {
     "name": "stdout",
     "output_type": "stream",
     "text": [
      "Arquivos extraídos para a pasta 'data_raw'\n"
     ]
    }
   ],
   "source": [
    "import zipfile\n",
    "\n",
    "\n",
    "nome_arquivo_zip = \"college-student-placement-factors-dataset.zip\"\n",
    "\n",
    "diretorio_destino = \"data_raw\"\n",
    "\n",
    "with zipfile.ZipFile(nome_arquivo_zip, 'r') as zip_ref:\n",
    "    zip_ref.extractall(diretorio_destino)\n",
    "\n",
    "print(f\"Arquivos extraídos para a pasta '{diretorio_destino}'\")"
   ]
  },
  {
   "cell_type": "code",
   "execution_count": 45,
   "id": "6864e499",
   "metadata": {},
   "outputs": [
    {
     "data": {
      "text/html": [
       "\n",
       "            <div>\n",
       "                <p><b>SparkSession - in-memory</b></p>\n",
       "                \n",
       "        <div>\n",
       "            <p><b>SparkContext</b></p>\n",
       "\n",
       "            <p><a href=\"http://DESKTOP-0QPSPOE.mshome.net:4040\">Spark UI</a></p>\n",
       "\n",
       "            <dl>\n",
       "              <dt>Version</dt>\n",
       "                <dd><code>v4.0.0</code></dd>\n",
       "              <dt>Master</dt>\n",
       "                <dd><code>local[*]</code></dd>\n",
       "              <dt>AppName</dt>\n",
       "                <dd><code>AvaliacaoSPARK</code></dd>\n",
       "            </dl>\n",
       "        </div>\n",
       "        \n",
       "            </div>\n",
       "        "
      ],
      "text/plain": [
       "<pyspark.sql.session.SparkSession at 0x1ffa2d552b0>"
      ]
     },
     "execution_count": 45,
     "metadata": {},
     "output_type": "execute_result"
    }
   ],
   "source": [
    "import findspark\n",
    "import os\n",
    "\n",
    "\n",
    "os.environ[\"SPARK_HOME\"] = \"C:\\\\spark\\\\spark-4.0.0-bin-hadoop3\"\n",
    "os.environ[\"JAVA_HOME\"] = \"C:\\\\Program Files\\\\Java\\\\jdk-17\"\n",
    "\n",
    "os.environ[\"PATH\"] += os.pathsep + os.path.join(os.environ[\"SPARK_HOME\"], \"bin\")\n",
    "\n",
    "findspark.init()\n",
    "\n",
    "\n",
    "from pyspark.sql import SparkSession\n",
    "\n",
    "spark = SparkSession.builder.appName(\"AvaliacaoSPARK\").getOrCreate()\n",
    "spark.conf.set(\"spark.sql.repl.eagerEval.enabled\", True)\n",
    "spark"
   ]
  },
  {
   "cell_type": "code",
   "execution_count": 46,
   "id": "023c4828",
   "metadata": {},
   "outputs": [
    {
     "name": "stdout",
     "output_type": "stream",
     "text": [
      "+----------+---+---------------+----+--------------------+---------------------+----------------------+--------------------+------------------+---------+\n",
      "|College_ID| IQ|Prev_Sem_Result|CGPA|Academic_Performance|Internship_Experience|Extra_Curricular_Score|Communication_Skills|Projects_Completed|Placement|\n",
      "+----------+---+---------------+----+--------------------+---------------------+----------------------+--------------------+------------------+---------+\n",
      "|   CLG0030|107|           6.61|6.28|                   8|                   No|                     8|                   8|                 4|       No|\n",
      "|   CLG0061| 97|           5.52|5.37|                   8|                   No|                     7|                   8|                 0|       No|\n",
      "|   CLG0036|109|           5.36|5.83|                   9|                   No|                     3|                   1|                 1|       No|\n",
      "|   CLG0055|122|           5.47|5.75|                   6|                  Yes|                     1|                   6|                 1|       No|\n",
      "|   CLG0004| 96|           7.91|7.69|                   7|                   No|                     8|                  10|                 2|       No|\n",
      "+----------+---+---------------+----+--------------------+---------------------+----------------------+--------------------+------------------+---------+\n",
      "only showing top 5 rows\n"
     ]
    }
   ],
   "source": [
    "df = spark.read.csv(\"data_raw/college_student_placement_dataset.csv\", header=True, sep=\",\")\n",
    "df.show(5)"
   ]
  },
  {
   "cell_type": "code",
   "execution_count": 47,
   "id": "9895c94f",
   "metadata": {},
   "outputs": [],
   "source": [
    "import faker\n",
    "from faker import Faker\n",
    "import random\n",
    "from pyspark.sql.functions import col\n",
    "import pandas as pd"
   ]
  },
  {
   "cell_type": "code",
   "execution_count": 48,
   "id": "27746d8a",
   "metadata": {},
   "outputs": [
    {
     "data": {
      "text/plain": [
       "['College_ID',\n",
       " 'IQ',\n",
       " 'Prev_Sem_Result',\n",
       " 'CGPA',\n",
       " 'Academic_Performance',\n",
       " 'Internship_Experience',\n",
       " 'Extra_Curricular_Score',\n",
       " 'Communication_Skills',\n",
       " 'Projects_Completed',\n",
       " 'Placement']"
      ]
     },
     "execution_count": 48,
     "metadata": {},
     "output_type": "execute_result"
    }
   ],
   "source": [
    "df.columns"
   ]
  },
  {
   "cell_type": "code",
   "execution_count": 49,
   "id": "0786471b",
   "metadata": {},
   "outputs": [
    {
     "name": "stdout",
     "output_type": "stream",
     "text": [
      "+----------+---+---------------+----+--------------------+---------------------+----------------------+--------------------+------------------+---------+\n",
      "|College_ID| IQ|Prev_Sem_Result|CGPA|Academic_Performance|Internship_Experience|Extra_Curricular_Score|Communication_Skills|Projects_Completed|Placement|\n",
      "+----------+---+---------------+----+--------------------+---------------------+----------------------+--------------------+------------------+---------+\n",
      "|   CLG0034| 60|           7.44| 7.6|                  10|                  Yes|                     2|                   2|                 4|       No|\n",
      "|   CLG0062| 69|           9.32|9.06|                   3|                   No|                     6|                  10|                 3|      Yes|\n",
      "|   CLG0004| 51|           7.26|7.43|                   1|                   No|                     4|                   9|                 0|       No|\n",
      "|   CLG0082| 68|           9.64|9.88|                   3|                   No|                     7|                   1|                 0|       No|\n",
      "|   CLG0033| 69|           7.31|7.27|                   3|                  Yes|                     4|                   3|                 4|       No|\n",
      "|   CLG0023| 68|           6.12|5.74|                   5|                   No|                     6|                   8|                 2|       No|\n",
      "|   CLG0032| 65|           5.33|5.73|                   3|                  Yes|                     4|                   6|                 1|       No|\n",
      "|   CLG0066| 62|           5.95|6.04|                   7|                   No|                     7|                   7|                 3|       No|\n",
      "|   CLG0065| 69|           8.38|8.68|                   6|                  Yes|                     1|                   4|                 1|       No|\n",
      "|   CLG0024| 66|           8.51|8.98|                   9|                   No|                     3|                   1|                 5|       No|\n",
      "|   CLG0062| 59|            7.5|7.16|                   5|                  Yes|                     5|                   7|                 1|       No|\n",
      "|   CLG0088| 60|           9.28|9.19|                  10|                   No|                     5|                   1|                 2|       No|\n",
      "|   CLG0043| 68|           6.78|6.79|                   6|                  Yes|                     8|                   2|                 5|       No|\n",
      "|   CLG0098| 68|            9.5|9.08|                   8|                  Yes|                     8|                   7|                 2|       No|\n",
      "|   CLG0088| 67|           5.99|5.78|                  10|                   No|                     5|                   7|                 1|       No|\n",
      "|   CLG0039| 63|           8.06|8.23|                  10|                   No|                     3|                   8|                 1|       No|\n",
      "|   CLG0057| 69|           5.35|5.38|                   1|                   No|                     4|                   8|                 1|       No|\n",
      "|   CLG0091| 57|           6.06|5.97|                   2|                   No|                     1|                   7|                 0|       No|\n",
      "|   CLG0064| 56|           5.95|5.79|                   2|                   No|                     0|                  10|                 1|       No|\n",
      "|   CLG0092| 67|           5.61|5.92|                   4|                   No|                     3|                   5|                 1|       No|\n",
      "+----------+---+---------------+----+--------------------+---------------------+----------------------+--------------------+------------------+---------+\n",
      "only showing top 20 rows\n",
      "Total de registros com IQ inválido: 230\n"
     ]
    }
   ],
   "source": [
    "df.filter((col(\"IQ\") < 70) | (col(\"IQ\") > 160)).show()\n",
    "print(f\"Total de registros com IQ inválido: {df.filter((col('IQ') < 70) | (col('IQ') > 160)).count()}\")"
   ]
  },
  {
   "cell_type": "code",
   "execution_count": 50,
   "id": "34624b08",
   "metadata": {},
   "outputs": [
    {
     "name": "stdout",
     "output_type": "stream",
     "text": [
      "+----------+---+---------------+----+--------------------+---------------------+----------------------+--------------------+------------------+---------+\n",
      "|College_ID| IQ|Prev_Sem_Result|CGPA|Academic_Performance|Internship_Experience|Extra_Curricular_Score|Communication_Skills|Projects_Completed|Placement|\n",
      "+----------+---+---------------+----+--------------------+---------------------+----------------------+--------------------+------------------+---------+\n",
      "|   CLG0036|109|           5.36|5.83|                   9|                   No|                     3|                   1|                 1|       No|\n",
      "|   CLG0006| 80|            5.9|5.96|                  10|                  Yes|                     6|                   7|                 1|       No|\n",
      "|   CLG0036| 98|           5.79|5.51|                   9|                   No|                    10|                   3|                 0|       No|\n",
      "|   CLG0089|115|           5.56|5.14|                  10|                  Yes|                     6|                   3|                 0|       No|\n",
      "|   CLG0016|105|           5.36|5.11|                  10|                   No|                     2|                   8|                 0|       No|\n",
      "|   CLG0058|109|           5.42| 5.5|                  10|                   No|                    10|                   4|                 1|       No|\n",
      "|   CLG0029|101|           5.46|5.85|                   9|                  Yes|                    10|                   6|                 4|       No|\n",
      "|   CLG0058| 89|           5.75|5.99|                   9|                   No|                     7|                   5|                 4|       No|\n",
      "|   CLG0099|123|           5.26|5.45|                  10|                  Yes|                     5|                  10|                 1|       No|\n",
      "|   CLG0012| 81|           5.01|4.97|                  10|                   No|                     8|                  10|                 2|       No|\n",
      "|   CLG0006|104|           5.72|5.81|                   9|                   No|                     5|                   1|                 3|       No|\n",
      "|   CLG0043| 85|           5.38|5.58|                  10|                   No|                     6|                   2|                 5|       No|\n",
      "|   CLG0028| 94|           5.58|5.49|                   9|                  Yes|                     4|                   3|                 3|       No|\n",
      "|   CLG0005| 85|           5.09|4.89|                   9|                   No|                     2|                   4|                 0|       No|\n",
      "|   CLG0006|109|           5.43|5.78|                  10|                  Yes|                     1|                  10|                 0|       No|\n",
      "|   CLG0029| 98|           5.03|4.59|                  10|                   No|                    10|                   4|                 0|       No|\n",
      "|   CLG0049|108|           5.12|5.44|                  10|                  Yes|                     4|                   7|                 1|       No|\n",
      "|   CLG0084| 93|           5.49| 5.4|                   9|                   No|                     7|                  10|                 0|       No|\n",
      "|   CLG0048|103|           5.21|4.79|                   9|                   No|                     1|                   5|                 4|       No|\n",
      "|   CLG0005| 93|           5.91|5.81|                   9|                   No|                     1|                   7|                 2|       No|\n",
      "+----------+---+---------------+----+--------------------+---------------------+----------------------+--------------------+------------------+---------+\n",
      "only showing top 20 rows\n",
      "Total de registros inconsistentes: 337\n"
     ]
    }
   ],
   "source": [
    "df.filter(\n",
    "    ((col(\"Academic_Performance\") == 10) | (col(\"Academic_Performance\") == 9)) & \\\n",
    "    (col(\"CGPA\") < 6.0) & \\\n",
    "    (col(\"Prev_Sem_Result\") < 6.0)\n",
    ").show()\n",
    "print(f\"Total de registros inconsistentes: {df.filter(((col('Academic_Performance') == 10) | (col('Academic_Performance') == 9)) & (col('CGPA') < 6.0) & (col('Prev_Sem_Result') < 6.0)).count()}\")"
   ]
  },
  {
   "cell_type": "code",
   "execution_count": 51,
   "id": "f083210f",
   "metadata": {},
   "outputs": [
    {
     "name": "stdout",
     "output_type": "stream",
     "text": [
      "Número original de registros: 10000\n",
      "Número de registros após remover IQ inválido: 9770\n"
     ]
    }
   ],
   "source": [
    "df_limpo = df.filter((col(\"IQ\") >= 70) & (col(\"IQ\") <= 160))\n",
    "\n",
    "print(f\"Número original de registros: {df.count()}\")\n",
    "print(f\"Número de registros após remover IQ inválido: {df_limpo.count()}\")"
   ]
  },
  {
   "cell_type": "code",
   "execution_count": 52,
   "id": "c86c658e",
   "metadata": {},
   "outputs": [
    {
     "name": "stdout",
     "output_type": "stream",
     "text": [
      "Número de registros antes de remover inconsistências: 9770\n",
      "Número de registros após remover inconsistências: 9437\n"
     ]
    }
   ],
   "source": [
    "condicao_inconsistente = (\n",
    "    ((col(\"Academic_Performance\") == 10) | (col(\"Academic_Performance\") == 9)) &\n",
    "    (col(\"CGPA\") < 6.0) &\n",
    "    (col(\"Prev_Sem_Result\") < 6.0)\n",
    ")\n",
    "df_final_limpo = df_limpo.filter(~condicao_inconsistente)\n",
    "\n",
    "print(f\"Número de registros antes de remover inconsistências: {df_limpo.count()}\")\n",
    "print(f\"Número de registros após remover inconsistências: {df_final_limpo.count()}\")"
   ]
  },
  {
   "cell_type": "code",
   "execution_count": 53,
   "id": "7edbc6f9",
   "metadata": {},
   "outputs": [
    {
     "name": "stdout",
     "output_type": "stream",
     "text": [
      "+----------+---+---------------+----+--------------------+---------------------+----------------------+--------------------+------------------+---------+---+\n",
      "|College_ID| IQ|Prev_Sem_Result|CGPA|Academic_Performance|Internship_Experience|Extra_Curricular_Score|Communication_Skills|Projects_Completed|Placement| id|\n",
      "+----------+---+---------------+----+--------------------+---------------------+----------------------+--------------------+------------------+---------+---+\n",
      "|   CLG0030|107|           6.61|6.28|                   8|                   No|                     8|                   8|                 4|       No|  1|\n",
      "|   CLG0061| 97|           5.52|5.37|                   8|                   No|                     7|                   8|                 0|       No|  2|\n",
      "|   CLG0055|122|           5.47|5.75|                   6|                  Yes|                     1|                   6|                 1|       No|  3|\n",
      "|   CLG0004| 96|           7.91|7.69|                   7|                   No|                     8|                  10|                 2|       No|  4|\n",
      "|   CLG0015| 96|           5.26|5.32|                   7|                   No|                     5|                   8|                 0|       No|  5|\n",
      "+----------+---+---------------+----+--------------------+---------------------+----------------------+--------------------+------------------+---------+---+\n",
      "only showing top 5 rows\n"
     ]
    }
   ],
   "source": [
    "from pyspark.sql.functions import row_number,lit\n",
    "from pyspark.sql.window import Window\n",
    "w = Window().orderBy(lit('A'))\n",
    "df_final_limpo = df_final_limpo.withColumn(\"id\", row_number().over(w))\n",
    "df_final_limpo.show(5)"
   ]
  },
  {
   "cell_type": "code",
   "execution_count": 54,
   "id": "1bde0603",
   "metadata": {},
   "outputs": [],
   "source": [
    "fake = Faker('en_US')\n",
    "\n",
    "num_registros = df_final_limpo.count()\n",
    "\n",
    "# Gerar dados fictícios\n",
    "data = []\n",
    "for i in range(num_registros):\n",
    "    primeiro_nome = fake.first_name()\n",
    "    sobrenome = fake.last_name()\n",
    "    cidade = fake.city()\n",
    "    id=i+1\n",
    "    data.append((primeiro_nome, sobrenome, cidade, id))\n",
    "\n",
    "schema = [\"primeiro_nome\", \"sobrenome\", \"cidade\", \"id\"]\n",
    "\n",
    "df_faker = pd.DataFrame(data, columns=schema)\n",
    "df_faker.to_csv('data_raw/faker.csv', index=False)"
   ]
  },
  {
   "cell_type": "code",
   "execution_count": 55,
   "id": "1999b94b",
   "metadata": {},
   "outputs": [
    {
     "name": "stdout",
     "output_type": "stream",
     "text": [
      "+-------------+---------+-------------+---+\n",
      "|primeiro_nome|sobrenome|       cidade| id|\n",
      "+-------------+---------+-------------+---+\n",
      "|     Margaret|    Lewis|     Troyfurt|  1|\n",
      "|       Robert|     Cain|  Lake Robert|  2|\n",
      "|        Jerry| Santiago|Underwoodview|  3|\n",
      "|     Nicholas|    Drake|   Vincentton|  4|\n",
      "|     Lawrence|   Hodges|  New Shannon|  5|\n",
      "+-------------+---------+-------------+---+\n",
      "only showing top 5 rows\n"
     ]
    }
   ],
   "source": [
    "df_nome_faker=spark.read.csv(\"data_raw\\\\faker.csv\", header=True, sep=\",\")\n",
    "df_nome_faker.show(5)\n"
   ]
  },
  {
   "cell_type": "code",
   "execution_count": 56,
   "id": "4361e35c",
   "metadata": {},
   "outputs": [
    {
     "name": "stdout",
     "output_type": "stream",
     "text": [
      "+---+-------------+---------+-------------+----------+---+---------------+----+--------------------+---------------------+----------------------+--------------------+------------------+---------+\n",
      "| id|primeiro_nome|sobrenome|       cidade|College_ID| IQ|Prev_Sem_Result|CGPA|Academic_Performance|Internship_Experience|Extra_Curricular_Score|Communication_Skills|Projects_Completed|Placement|\n",
      "+---+-------------+---------+-------------+----------+---+---------------+----+--------------------+---------------------+----------------------+--------------------+------------------+---------+\n",
      "|  1|     Margaret|    Lewis|     Troyfurt|   CLG0030|107|           6.61|6.28|                   8|                   No|                     8|                   8|                 4|       No|\n",
      "|  2|       Robert|     Cain|  Lake Robert|   CLG0061| 97|           5.52|5.37|                   8|                   No|                     7|                   8|                 0|       No|\n",
      "|  3|        Jerry| Santiago|Underwoodview|   CLG0055|122|           5.47|5.75|                   6|                  Yes|                     1|                   6|                 1|       No|\n",
      "|  4|     Nicholas|    Drake|   Vincentton|   CLG0004| 96|           7.91|7.69|                   7|                   No|                     8|                  10|                 2|       No|\n",
      "|  5|     Lawrence|   Hodges|  New Shannon|   CLG0015| 96|           5.26|5.32|                   7|                   No|                     5|                   8|                 0|       No|\n",
      "+---+-------------+---------+-------------+----------+---+---------------+----+--------------------+---------------------+----------------------+--------------------+------------------+---------+\n",
      "only showing top 5 rows\n"
     ]
    }
   ],
   "source": [
    "df_joined=df_nome_faker.join(df_final_limpo,on='id', how='inner')\n",
    "df_joined.show(5)"
   ]
  },
  {
   "cell_type": "code",
   "execution_count": null,
   "id": "d3c575f7",
   "metadata": {},
   "outputs": [],
   "source": []
  }
 ],
 "metadata": {
  "kernelspec": {
   "display_name": "Python 3",
   "language": "python",
   "name": "python3"
  },
  "language_info": {
   "codemirror_mode": {
    "name": "ipython",
    "version": 3
   },
   "file_extension": ".py",
   "mimetype": "text/x-python",
   "name": "python",
   "nbconvert_exporter": "python",
   "pygments_lexer": "ipython3",
   "version": "3.13.5"
  }
 },
 "nbformat": 4,
 "nbformat_minor": 5
}
